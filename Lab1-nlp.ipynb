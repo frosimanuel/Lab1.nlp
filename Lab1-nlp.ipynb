{
 "cells": [
  {
   "cell_type": "markdown",
   "metadata": {},
   "source": [
    "Lab 1 - NLP\n",
    "===\n",
    "\n",
    "NLTK y contar palabras corpora\n",
    "----\n",
    ">**1**. Cuál es el número de tokens en Moby Dick?"
   ]
  },
  {
   "cell_type": "code",
   "execution_count": 24,
   "metadata": {},
   "outputs": [],
   "source": [
    "import nltk\n",
    "from nltk.book import *\n",
    "from nltk import word_tokenize\n",
    "from nltk import re"
   ]
  },
  {
   "cell_type": "code",
   "execution_count": 25,
   "metadata": {},
   "outputs": [
    {
     "data": {
      "text/plain": [
       "218621"
      ]
     },
     "execution_count": 25,
     "metadata": {},
     "output_type": "execute_result"
    }
   ],
   "source": [
    "moby_dick_tokens = text1.tokens\n",
    "moby_dick_tokens_nopunct = [word.lower() for word in moby_dick_tokens if re.search(\"\\w\",word)]\n",
    "#Quitamos puntuaciones y pasamos todo a minúsculas para calcular la cantidad de tokens"
   ]
  },
  {
   "cell_type": "code",
   "execution_count": 26,
   "metadata": {},
   "outputs": [
    {
     "data": {
      "text/plain": [
       "218621"
      ]
     },
     "execution_count": 26,
     "metadata": {},
     "output_type": "execute_result"
    }
   ],
   "source": [
    "# El número de tokens será:\n",
    "len(moby_dick_tokens_nopunct)"
   ]
  },
  {
   "cell_type": "markdown",
   "metadata": {},
   "source": [
    ">**2**. Cuál es el número de types en Moby Dick?"
   ]
  },
  {
   "cell_type": "code",
   "execution_count": 29,
   "metadata": {},
   "outputs": [
    {
     "data": {
      "text/plain": [
       "17140"
      ]
     },
     "execution_count": 29,
     "metadata": {},
     "output_type": "execute_result"
    }
   ],
   "source": [
    "#Número de types\n",
    "len(set(moby_dick_tokens_nopunct))"
   ]
  },
  {
   "cell_type": "markdown",
   "metadata": {},
   "source": [
    ">**3**. Moby Dick type-token ratio\n"
   ]
  },
  {
   "cell_type": "code",
   "execution_count": 33,
   "metadata": {},
   "outputs": [
    {
     "data": {
      "text/plain": [
       "0.07840051962071347"
      ]
     },
     "execution_count": 33,
     "metadata": {},
     "output_type": "execute_result"
    }
   ],
   "source": [
    "#Esto será igual al número de types/número de tokens, ya tenemos ambos números por lo cual es una división simple\n",
    "17140/218621"
   ]
  },
  {
   "cell_type": "code",
   "execution_count": 35,
   "metadata": {},
   "outputs": [
    {
     "data": {
      "text/plain": [
       "0.07840051962071347"
      ]
     },
     "execution_count": 35,
     "metadata": {},
     "output_type": "execute_result"
    }
   ],
   "source": [
    "#También podríamos plantearlo como\n",
    "len(set(moby_dick_tokens_nopunct))/len(moby_dick_tokens_nopunct)"
   ]
  },
  {
   "cell_type": "markdown",
   "metadata": {},
   "source": [
    ">**4**. WSJ type-token ratio"
   ]
  },
  {
   "cell_type": "code",
   "execution_count": 36,
   "metadata": {},
   "outputs": [],
   "source": [
    "#Deberemos pasar por el mismo proceso de quitar puntuación y pasar a minúscula, ahora con el corpus del WSJ\n",
    "wsj_tokens = text7.tokens\n",
    "wsj_tokens_nopunct = [word.lower() for word in wsj_tokens if re.search(\"\\w\",word)]"
   ]
  },
  {
   "cell_type": "code",
   "execution_count": 38,
   "metadata": {},
   "outputs": [
    {
     "data": {
      "text/plain": [
       "87608"
      ]
     },
     "execution_count": 38,
     "metadata": {},
     "output_type": "execute_result"
    }
   ],
   "source": [
    "#Número de tokens\n",
    "len(wsj_tokens_nopunct)"
   ]
  },
  {
   "cell_type": "code",
   "execution_count": 39,
   "metadata": {},
   "outputs": [
    {
     "data": {
      "text/plain": [
       "11367"
      ]
     },
     "execution_count": 39,
     "metadata": {},
     "output_type": "execute_result"
    }
   ],
   "source": [
    "#Número de types\n",
    "len(set(wsj_tokens_nopunct))"
   ]
  },
  {
   "cell_type": "code",
   "execution_count": 44,
   "metadata": {},
   "outputs": [
    {
     "data": {
      "text/plain": [
       "0.129748424801388"
      ]
     },
     "execution_count": 44,
     "metadata": {},
     "output_type": "execute_result"
    }
   ],
   "source": [
    "#type-token ratio\n",
    "len(set(wsj_tokens_nopunct))/len(wsj_tokens_nopunct)"
   ]
  },
  {
   "cell_type": "markdown",
   "metadata": {},
   "source": [
    "> **5**. Cuál de los dos tiene más diversidad léxica?\n",
    ">\n",
    ">El que tiene un ratio type-token más alto y por lo tanto tiene más diversidad léxica es: **_WSJ_**"
   ]
  },
  {
   "cell_type": "markdown",
   "metadata": {},
   "source": [
    "> **6**. Puede pensar una razón por por la cual ese corpus es más diverso que el otro?\n",
    ">\n",
    "> Porque al ser noticias tiene más diversidad de temas sobre los que se hablan y\n",
    "por más que fueran todas económicas al ser de distintos autores se genera\n",
    "más diversidad en contra de un libro que habla siempre sobre una ballena"
   ]
  },
  {
   "cell_type": "markdown",
   "metadata": {},
   "source": [
    ">**7**. Cual es el “Maximum Likelikhood Estimate (MLE)” de la palabra “whale” (ballena) en Moby Dick?"
   ]
  },
  {
   "cell_type": "code",
   "execution_count": 49,
   "metadata": {},
   "outputs": [
    {
     "data": {
      "text/plain": [
       "1226"
      ]
     },
     "execution_count": 49,
     "metadata": {},
     "output_type": "execute_result"
    }
   ],
   "source": [
    "#Contamos la cantidad de veces que aparece whale en moby dick y luego dividimos por la cantidad total de tokens\n",
    "#(en realidad no estoy del todo seguro de si usar la cantidad de tokens o de types para unigram MLE)\n",
    "moby_dick_tokens_nopunct.count(\"whale\")"
   ]
  },
  {
   "cell_type": "code",
   "execution_count": 48,
   "metadata": {},
   "outputs": [
    {
     "data": {
      "text/plain": [
       "0.005607878474620462"
      ]
     },
     "execution_count": 48,
     "metadata": {},
     "output_type": "execute_result"
    }
   ],
   "source": [
    "moby_dick_tokens_nopunct.count(\"whale\")/len(moby_dick_tokens_nopunct)"
   ]
  },
  {
   "cell_type": "code",
   "execution_count": 50,
   "metadata": {},
   "outputs": [
    {
     "name": "stdout",
     "output_type": "stream",
     "text": [
      "Object `WSJ` not found.\n"
     ]
    }
   ],
   "source": [
    ">8. Cuál es el MLE de “whale” en el corpus de WSJ?"
   ]
  },
  {
   "cell_type": "markdown",
   "metadata": {},
   "source": [
    ">**8**. Cuál es el MLE de “whale” en el corpus de WSJ"
   ]
  },
  {
   "cell_type": "code",
   "execution_count": 52,
   "metadata": {},
   "outputs": [
    {
     "data": {
      "text/plain": [
       "0"
      ]
     },
     "execution_count": 52,
     "metadata": {},
     "output_type": "execute_result"
    }
   ],
   "source": [
    "#Cuando contamos cuantas veces aparece whale en WSJ\n",
    "wsj_tokens_nopunct.count(\"whale\")"
   ]
  },
  {
   "cell_type": "markdown",
   "metadata": {},
   "source": [
    ">por lo tanto, cualquier probabilidad sobre esa palabra en wsj dará **0** "
   ]
  },
  {
   "cell_type": "markdown",
   "metadata": {},
   "source": [
    " ![Eso es todo bai](data:image/jpeg;base64,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)"
   ]
  }
 ],
 "metadata": {
  "kernelspec": {
   "display_name": "Python 3",
   "language": "python",
   "name": "python3"
  },
  "language_info": {
   "codemirror_mode": {
    "name": "ipython",
    "version": 3
   },
   "file_extension": ".py",
   "mimetype": "text/x-python",
   "name": "python",
   "nbconvert_exporter": "python",
   "pygments_lexer": "ipython3",
   "version": "3.7.3"
  }
 },
 "nbformat": 4,
 "nbformat_minor": 2
}
